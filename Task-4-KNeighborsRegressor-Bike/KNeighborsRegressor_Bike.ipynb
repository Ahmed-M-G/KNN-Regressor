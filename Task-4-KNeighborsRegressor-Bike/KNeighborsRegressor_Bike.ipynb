{
  "cells": [
    {
      "cell_type": "markdown",
      "id": "81cd422d",
      "metadata": {
        "id": "81cd422d"
      },
      "source": [
        "#KNeighborsRegressor - Bike Sharing"
      ]
    },
    {
      "cell_type": "markdown",
      "id": "57371587",
      "metadata": {
        "id": "57371587"
      },
      "source": [
        "### Introducing the exercise"
      ]
    },
    {
      "cell_type": "markdown",
      "id": "aa734263",
      "metadata": {
        "id": "aa734263"
      },
      "source": [
        "This exercise uses the **bike sharing** dataset. The function of all features as well as the target is described in the **Readme.txt** file. The goal is to predict the count of total rental bikes using KNN's regressor and the OLS linear regression implemented in sklearn.\n",
        "\n",
        "https://scikit-learn.org/stable/modules/generated/sklearn.neighbors.KNeighborsRegressor.html#sklearn-neighbors-kneighborsregressor\n",
        "\n",
        "https://scikit-learn.org/stable/modules/generated/sklearn.linear_model.LinearRegression.html#sklearn-linear-model-linearregression\n",
        "\n",
        "The code implemented below reads the **day.csv** file located in the **bike-sharing-dataset** folder and stores the data in a **pandas** DataFrame. Some of the columns are omitted. The goal of predicting the count can be achieved by following the steps below.\n",
        "\n",
        "* One of the OLS assumptions is that each feature bears a linear dependency with the target. To check whether this condition is satisfied, create separate plots of **cnt** versus each of the six features. Choose two that bear a linear, or close to linear, dependency with the target.\n",
        "* Let these two features be the inputs and **cnt** be the target.\n",
        "* Create an 80:20 train-test split.\n",
        "* Having the features scaled is an essential part of working with the KNN algorithm. Make sure that the two features are scaled properly. You can use sklearn's StandardScaler() class.\n",
        "* Create instances of the KNeighborsRegressor and LinearRegression classes. For the KNeighborsRegressor model, try to find the number of neighbors that works best.\n",
        "* Fit the model to the training data.\n",
        "* Make predictions on the test data.\n",
        "* For each of the models, make a plot of the true test values versus the predicted test values. A perfect model would draw a 45-degree line. On both figures, plot a 45-degree line for a reference.\n",
        "* Return the R-squared value for both models. You can find out how to do that on the pages of the two regression algorithms. What is the R-squared value of a perfect model? Based on that, which of the two models performed better?\n",
        "\n",
        "https://scikit-learn.org/stable/modules/generated/sklearn.preprocessing.StandardScaler.html#sklearn-preprocessing-standardscaler\n",
        "\n",
        "Have fun!"
      ]
    },
    {
      "cell_type": "markdown",
      "id": "09a8575d",
      "metadata": {
        "id": "09a8575d"
      },
      "source": [
        "### Import the relevant libraries"
      ]
    },
    {
      "cell_type": "code",
      "execution_count": 1,
      "id": "aced224a",
      "metadata": {
        "id": "aced224a"
      },
      "outputs": [],
      "source": [
        "import pandas as pd\n",
        "\n",
        "from sklearn.model_selection import train_test_split\n",
        "from sklearn.neighbors import KNeighborsRegressor\n",
        "from sklearn.linear_model import LinearRegression\n",
        "from sklearn.preprocessing import StandardScaler\n",
        "\n",
        "import numpy as np\n",
        "\n",
        "import matplotlib.pyplot as plt\n",
        "import seaborn as sns"
      ]
    },
    {
      "cell_type": "markdown",
      "source": [
        "## Day Data"
      ],
      "metadata": {
        "id": "hfqYGt08PZT_"
      },
      "id": "hfqYGt08PZT_"
    },
    {
      "cell_type": "markdown",
      "id": "8750765a",
      "metadata": {
        "id": "8750765a"
      },
      "source": [
        "### Load the dataset and displaying the inputs"
      ]
    },
    {
      "cell_type": "code",
      "execution_count": 2,
      "id": "7f08a2b9",
      "metadata": {
        "id": "7f08a2b9"
      },
      "outputs": [],
      "source": [
        "data = pd.read_csv('day.csv').drop(['instant', 'dteday', 'season', 'yr', 'mnth', 'holiday', 'weekday', 'weathersit', 'workingday'], axis = 1)"
      ]
    },
    {
      "cell_type": "code",
      "execution_count": 3,
      "id": "42810c9a",
      "metadata": {
        "colab": {
          "base_uri": "https://localhost:8080/",
          "height": 0
        },
        "id": "42810c9a",
        "outputId": "c4b14d0a-9a6b-4ae1-b6f5-cccbbf969aaa"
      },
      "outputs": [
        {
          "output_type": "execute_result",
          "data": {
            "text/plain": [
              "         temp     atemp       hum  windspeed  casual  registered   cnt\n",
              "0    0.344167  0.363625  0.805833   0.160446     331         654   985\n",
              "1    0.363478  0.353739  0.696087   0.248539     131         670   801\n",
              "2    0.196364  0.189405  0.437273   0.248309     120        1229  1349\n",
              "3    0.200000  0.212122  0.590435   0.160296     108        1454  1562\n",
              "4    0.226957  0.229270  0.436957   0.186900      82        1518  1600\n",
              "..        ...       ...       ...        ...     ...         ...   ...\n",
              "726  0.254167  0.226642  0.652917   0.350133     247        1867  2114\n",
              "727  0.253333  0.255046  0.590000   0.155471     644        2451  3095\n",
              "728  0.253333  0.242400  0.752917   0.124383     159        1182  1341\n",
              "729  0.255833  0.231700  0.483333   0.350754     364        1432  1796\n",
              "730  0.215833  0.223487  0.577500   0.154846     439        2290  2729\n",
              "\n",
              "[731 rows x 7 columns]"
            ],
            "text/html": [
              "\n",
              "  <div id=\"df-cecc7c13-8239-4c1d-89df-d903468811f8\">\n",
              "    <div class=\"colab-df-container\">\n",
              "      <div>\n",
              "<style scoped>\n",
              "    .dataframe tbody tr th:only-of-type {\n",
              "        vertical-align: middle;\n",
              "    }\n",
              "\n",
              "    .dataframe tbody tr th {\n",
              "        vertical-align: top;\n",
              "    }\n",
              "\n",
              "    .dataframe thead th {\n",
              "        text-align: right;\n",
              "    }\n",
              "</style>\n",
              "<table border=\"1\" class=\"dataframe\">\n",
              "  <thead>\n",
              "    <tr style=\"text-align: right;\">\n",
              "      <th></th>\n",
              "      <th>temp</th>\n",
              "      <th>atemp</th>\n",
              "      <th>hum</th>\n",
              "      <th>windspeed</th>\n",
              "      <th>casual</th>\n",
              "      <th>registered</th>\n",
              "      <th>cnt</th>\n",
              "    </tr>\n",
              "  </thead>\n",
              "  <tbody>\n",
              "    <tr>\n",
              "      <th>0</th>\n",
              "      <td>0.344167</td>\n",
              "      <td>0.363625</td>\n",
              "      <td>0.805833</td>\n",
              "      <td>0.160446</td>\n",
              "      <td>331</td>\n",
              "      <td>654</td>\n",
              "      <td>985</td>\n",
              "    </tr>\n",
              "    <tr>\n",
              "      <th>1</th>\n",
              "      <td>0.363478</td>\n",
              "      <td>0.353739</td>\n",
              "      <td>0.696087</td>\n",
              "      <td>0.248539</td>\n",
              "      <td>131</td>\n",
              "      <td>670</td>\n",
              "      <td>801</td>\n",
              "    </tr>\n",
              "    <tr>\n",
              "      <th>2</th>\n",
              "      <td>0.196364</td>\n",
              "      <td>0.189405</td>\n",
              "      <td>0.437273</td>\n",
              "      <td>0.248309</td>\n",
              "      <td>120</td>\n",
              "      <td>1229</td>\n",
              "      <td>1349</td>\n",
              "    </tr>\n",
              "    <tr>\n",
              "      <th>3</th>\n",
              "      <td>0.200000</td>\n",
              "      <td>0.212122</td>\n",
              "      <td>0.590435</td>\n",
              "      <td>0.160296</td>\n",
              "      <td>108</td>\n",
              "      <td>1454</td>\n",
              "      <td>1562</td>\n",
              "    </tr>\n",
              "    <tr>\n",
              "      <th>4</th>\n",
              "      <td>0.226957</td>\n",
              "      <td>0.229270</td>\n",
              "      <td>0.436957</td>\n",
              "      <td>0.186900</td>\n",
              "      <td>82</td>\n",
              "      <td>1518</td>\n",
              "      <td>1600</td>\n",
              "    </tr>\n",
              "    <tr>\n",
              "      <th>...</th>\n",
              "      <td>...</td>\n",
              "      <td>...</td>\n",
              "      <td>...</td>\n",
              "      <td>...</td>\n",
              "      <td>...</td>\n",
              "      <td>...</td>\n",
              "      <td>...</td>\n",
              "    </tr>\n",
              "    <tr>\n",
              "      <th>726</th>\n",
              "      <td>0.254167</td>\n",
              "      <td>0.226642</td>\n",
              "      <td>0.652917</td>\n",
              "      <td>0.350133</td>\n",
              "      <td>247</td>\n",
              "      <td>1867</td>\n",
              "      <td>2114</td>\n",
              "    </tr>\n",
              "    <tr>\n",
              "      <th>727</th>\n",
              "      <td>0.253333</td>\n",
              "      <td>0.255046</td>\n",
              "      <td>0.590000</td>\n",
              "      <td>0.155471</td>\n",
              "      <td>644</td>\n",
              "      <td>2451</td>\n",
              "      <td>3095</td>\n",
              "    </tr>\n",
              "    <tr>\n",
              "      <th>728</th>\n",
              "      <td>0.253333</td>\n",
              "      <td>0.242400</td>\n",
              "      <td>0.752917</td>\n",
              "      <td>0.124383</td>\n",
              "      <td>159</td>\n",
              "      <td>1182</td>\n",
              "      <td>1341</td>\n",
              "    </tr>\n",
              "    <tr>\n",
              "      <th>729</th>\n",
              "      <td>0.255833</td>\n",
              "      <td>0.231700</td>\n",
              "      <td>0.483333</td>\n",
              "      <td>0.350754</td>\n",
              "      <td>364</td>\n",
              "      <td>1432</td>\n",
              "      <td>1796</td>\n",
              "    </tr>\n",
              "    <tr>\n",
              "      <th>730</th>\n",
              "      <td>0.215833</td>\n",
              "      <td>0.223487</td>\n",
              "      <td>0.577500</td>\n",
              "      <td>0.154846</td>\n",
              "      <td>439</td>\n",
              "      <td>2290</td>\n",
              "      <td>2729</td>\n",
              "    </tr>\n",
              "  </tbody>\n",
              "</table>\n",
              "<p>731 rows × 7 columns</p>\n",
              "</div>\n",
              "      <button class=\"colab-df-convert\" onclick=\"convertToInteractive('df-cecc7c13-8239-4c1d-89df-d903468811f8')\"\n",
              "              title=\"Convert this dataframe to an interactive table.\"\n",
              "              style=\"display:none;\">\n",
              "        \n",
              "  <svg xmlns=\"http://www.w3.org/2000/svg\" height=\"24px\"viewBox=\"0 0 24 24\"\n",
              "       width=\"24px\">\n",
              "    <path d=\"M0 0h24v24H0V0z\" fill=\"none\"/>\n",
              "    <path d=\"M18.56 5.44l.94 2.06.94-2.06 2.06-.94-2.06-.94-.94-2.06-.94 2.06-2.06.94zm-11 1L8.5 8.5l.94-2.06 2.06-.94-2.06-.94L8.5 2.5l-.94 2.06-2.06.94zm10 10l.94 2.06.94-2.06 2.06-.94-2.06-.94-.94-2.06-.94 2.06-2.06.94z\"/><path d=\"M17.41 7.96l-1.37-1.37c-.4-.4-.92-.59-1.43-.59-.52 0-1.04.2-1.43.59L10.3 9.45l-7.72 7.72c-.78.78-.78 2.05 0 2.83L4 21.41c.39.39.9.59 1.41.59.51 0 1.02-.2 1.41-.59l7.78-7.78 2.81-2.81c.8-.78.8-2.07 0-2.86zM5.41 20L4 18.59l7.72-7.72 1.47 1.35L5.41 20z\"/>\n",
              "  </svg>\n",
              "      </button>\n",
              "      \n",
              "  <style>\n",
              "    .colab-df-container {\n",
              "      display:flex;\n",
              "      flex-wrap:wrap;\n",
              "      gap: 12px;\n",
              "    }\n",
              "\n",
              "    .colab-df-convert {\n",
              "      background-color: #E8F0FE;\n",
              "      border: none;\n",
              "      border-radius: 50%;\n",
              "      cursor: pointer;\n",
              "      display: none;\n",
              "      fill: #1967D2;\n",
              "      height: 32px;\n",
              "      padding: 0 0 0 0;\n",
              "      width: 32px;\n",
              "    }\n",
              "\n",
              "    .colab-df-convert:hover {\n",
              "      background-color: #E2EBFA;\n",
              "      box-shadow: 0px 1px 2px rgba(60, 64, 67, 0.3), 0px 1px 3px 1px rgba(60, 64, 67, 0.15);\n",
              "      fill: #174EA6;\n",
              "    }\n",
              "\n",
              "    [theme=dark] .colab-df-convert {\n",
              "      background-color: #3B4455;\n",
              "      fill: #D2E3FC;\n",
              "    }\n",
              "\n",
              "    [theme=dark] .colab-df-convert:hover {\n",
              "      background-color: #434B5C;\n",
              "      box-shadow: 0px 1px 3px 1px rgba(0, 0, 0, 0.15);\n",
              "      filter: drop-shadow(0px 1px 2px rgba(0, 0, 0, 0.3));\n",
              "      fill: #FFFFFF;\n",
              "    }\n",
              "  </style>\n",
              "\n",
              "      <script>\n",
              "        const buttonEl =\n",
              "          document.querySelector('#df-cecc7c13-8239-4c1d-89df-d903468811f8 button.colab-df-convert');\n",
              "        buttonEl.style.display =\n",
              "          google.colab.kernel.accessAllowed ? 'block' : 'none';\n",
              "\n",
              "        async function convertToInteractive(key) {\n",
              "          const element = document.querySelector('#df-cecc7c13-8239-4c1d-89df-d903468811f8');\n",
              "          const dataTable =\n",
              "            await google.colab.kernel.invokeFunction('convertToInteractive',\n",
              "                                                     [key], {});\n",
              "          if (!dataTable) return;\n",
              "\n",
              "          const docLinkHtml = 'Like what you see? Visit the ' +\n",
              "            '<a target=\"_blank\" href=https://colab.research.google.com/notebooks/data_table.ipynb>data table notebook</a>'\n",
              "            + ' to learn more about interactive tables.';\n",
              "          element.innerHTML = '';\n",
              "          dataTable['output_type'] = 'display_data';\n",
              "          await google.colab.output.renderOutput(dataTable, element);\n",
              "          const docLink = document.createElement('div');\n",
              "          docLink.innerHTML = docLinkHtml;\n",
              "          element.appendChild(docLink);\n",
              "        }\n",
              "      </script>\n",
              "    </div>\n",
              "  </div>\n",
              "  "
            ]
          },
          "metadata": {},
          "execution_count": 3
        }
      ],
      "source": [
        "data"
      ]
    },
    {
      "cell_type": "markdown",
      "id": "4ed4fab9",
      "metadata": {
        "id": "4ed4fab9"
      },
      "source": [
        "### Identify the features that bear a linear relation with the target"
      ]
    },
    {
      "cell_type": "code",
      "execution_count": 4,
      "id": "8f5e7919",
      "metadata": {
        "colab": {
          "base_uri": "https://localhost:8080/",
          "height": 0
        },
        "id": "8f5e7919",
        "outputId": "2af4920e-bb5b-4da2-b03b-33ecf3b3d1f7"
      },
      "outputs": [
        {
          "output_type": "display_data",
          "data": {
            "text/plain": [
              "<Figure size 432x288 with 1 Axes>"
            ],
            "image/png": "[encoded data removed]"
          },
          "metadata": {}
        }
      ],
      "source": [
        "sns.set()\n",
        "\n",
        "sns.scatterplot(data = data, x = 'temp', y = 'cnt');"
      ]
    },
    {
      "cell_type": "markdown",
      "id": "099617a6",
      "metadata": {
        "id": "099617a6"
      },
      "source": [
        "### Based on the results from above, define the inputs and the target. Create a train-test split"
      ]
    },
    {
      "cell_type": "code",
      "execution_count": 5,
      "id": "bb0f8012",
      "metadata": {
        "id": "bb0f8012"
      },
      "outputs": [],
      "source": [
        "inputs = data[['casual', 'registered']]\n",
        "target = data['cnt']"
      ]
    },
    {
      "cell_type": "code",
      "execution_count": 6,
      "id": "8fce4f1d",
      "metadata": {
        "id": "8fce4f1d"
      },
      "outputs": [],
      "source": [
        "x_train, x_test, y_train, y_test = train_test_split(inputs, target, test_size=0.2, random_state=365)"
      ]
    },
    {
      "cell_type": "markdown",
      "id": "6a2bf289",
      "metadata": {
        "id": "6a2bf289"
      },
      "source": [
        "### Scale the training and test data to zero mean and unit variance"
      ]
    },
    {
      "cell_type": "code",
      "execution_count": 7,
      "id": "40be4a89",
      "metadata": {
        "id": "40be4a89"
      },
      "outputs": [],
      "source": [
        "scaler = StandardScaler()\n",
        "\n",
        "x_train_scaled = scaler.fit_transform(x_train)\n",
        "x_test_scaled = scaler.transform(x_test)"
      ]
    },
    {
      "cell_type": "markdown",
      "id": "abcd81de",
      "metadata": {
        "id": "abcd81de"
      },
      "source": [
        "### Create the KNN and Linear regression models. Make predictions on the test data"
      ]
    },
    {
      "cell_type": "code",
      "execution_count": 8,
      "id": "c80d890c",
      "metadata": {
        "id": "c80d890c"
      },
      "outputs": [],
      "source": [
        "reg_knn = KNeighborsRegressor(n_neighbors = 2)\n",
        "reg_knn.fit(x_train_scaled, y_train)\n",
        "y_test_pred_knn = reg_knn.predict(x_test_scaled)"
      ]
    },
    {
      "cell_type": "code",
      "execution_count": 9,
      "id": "314519cd",
      "metadata": {
        "id": "314519cd"
      },
      "outputs": [],
      "source": [
        "reg_lin = LinearRegression()\n",
        "reg_lin.fit(x_train_scaled, y_train)\n",
        "y_test_pred_lin = reg_lin.predict(x_test_scaled)"
      ]
    },
    {
      "cell_type": "markdown",
      "id": "e93abf87",
      "metadata": {
        "id": "e93abf87"
      },
      "source": [
        "### Plot the predicted values from both models versus the true values"
      ]
    },
    {
      "cell_type": "code",
      "execution_count": 10,
      "id": "4c9489c2",
      "metadata": {
        "id": "4c9489c2"
      },
      "outputs": [],
      "source": [
        "x = [50, 8000]\n",
        "y = [50, 8000]"
      ]
    },
    {
      "cell_type": "code",
      "execution_count": 11,
      "id": "fa113023",
      "metadata": {
        "colab": {
          "base_uri": "https://localhost:8080/",
          "height": 0
        },
        "id": "fa113023",
        "outputId": "95962e37-8ab0-464e-d5d1-a902aa7da146"
      },
      "outputs": [
        {
          "output_type": "display_data",
          "data": {
            "text/plain": [
              "<Figure size 432x288 with 1 Axes>"
            ],
            "image/png": "[encoded data removed]"
          },
          "metadata": {}
        }
      ],
      "source": [
        "sns.set()\n",
        "\n",
        "plt.scatter(y_test, y_test_pred_knn)\n",
        "plt.plot(x, y)\n",
        "plt.xlabel('True values')\n",
        "plt.ylabel('Predicted values')\n",
        "plt.title('KNN Regressor');"
      ]
    },
    {
      "cell_type": "code",
      "execution_count": 12,
      "id": "ef0a17f4",
      "metadata": {
        "colab": {
          "base_uri": "https://localhost:8080/",
          "height": 0
        },
        "id": "ef0a17f4",
        "outputId": "ac602880-5e93-4dd0-c80d-9dbac336e5c3"
      },
      "outputs": [
        {
          "output_type": "display_data",
          "data": {
            "text/plain": [
              "<Figure size 432x288 with 1 Axes>"
            ],
            "image/png": "[encoded data removed]"
          },
          "metadata": {}
        }
      ],
      "source": [
        "sns.set()\n",
        "\n",
        "plt.scatter(y_test, y_test_pred_lin)\n",
        "plt.plot(x, y);\n",
        "plt.xlabel('True values')\n",
        "plt.ylabel('Predicted values')\n",
        "plt.title('Linear Regression');"
      ]
    },
    {
      "cell_type": "markdown",
      "id": "7109f0a5",
      "metadata": {
        "id": "7109f0a5"
      },
      "source": [
        "### Calculate the R2 value for both models"
      ]
    },
    {
      "cell_type": "code",
      "execution_count": 13,
      "id": "c9012882",
      "metadata": {
        "colab": {
          "base_uri": "https://localhost:8080/"
        },
        "id": "c9012882",
        "outputId": "69e5b177-08ac-4e01-ef34-e632943861c5"
      },
      "outputs": [
        {
          "output_type": "execute_result",
          "data": {
            "text/plain": [
              "(0.9979433147107003, 1.0)"
            ]
          },
          "metadata": {},
          "execution_count": 13
        }
      ],
      "source": [
        "reg_knn.score(x_test_scaled, y_test), reg_lin.score(x_test_scaled, y_test)"
      ]
    },
    {
      "cell_type": "code",
      "source": [],
      "metadata": {
        "id": "0V1ZC6VSPUab"
      },
      "id": "0V1ZC6VSPUab",
      "execution_count": 13,
      "outputs": []
    },
    {
      "cell_type": "markdown",
      "source": [
        "## Hour Data"
      ],
      "metadata": {
        "id": "9UxkJ0ojPhHa"
      },
      "id": "9UxkJ0ojPhHa"
    },
    {
      "cell_type": "markdown",
      "metadata": {
        "id": "EhWU2IjRPhHa"
      },
      "source": [
        "### Load the dataset and displaying the inputs"
      ],
      "id": "EhWU2IjRPhHa"
    },
    {
      "cell_type": "code",
      "execution_count": 14,
      "metadata": {
        "id": "f8_wL330PhHb"
      },
      "outputs": [],
      "source": [
        "data = pd.read_csv('hour.csv').drop(['instant', 'dteday', 'season', 'yr', 'mnth', 'holiday', 'weekday', 'weathersit', 'workingday'], axis = 1)"
      ],
      "id": "f8_wL330PhHb"
    },
    {
      "cell_type": "code",
      "execution_count": 15,
      "metadata": {
        "colab": {
          "base_uri": "https://localhost:8080/",
          "height": 424
        },
        "outputId": "8dbb9aae-2902-4c6c-c819-9f707eb6ff49",
        "id": "YJnhO3mAPhHb"
      },
      "outputs": [
        {
          "output_type": "execute_result",
          "data": {
            "text/plain": [
              "       hr  temp   atemp   hum  windspeed  casual  registered  cnt\n",
              "0       0  0.24  0.2879  0.81     0.0000       3          13   16\n",
              "1       1  0.22  0.2727  0.80     0.0000       8          32   40\n",
              "2       2  0.22  0.2727  0.80     0.0000       5          27   32\n",
              "3       3  0.24  0.2879  0.75     0.0000       3          10   13\n",
              "4       4  0.24  0.2879  0.75     0.0000       0           1    1\n",
              "...    ..   ...     ...   ...        ...     ...         ...  ...\n",
              "17374  19  0.26  0.2576  0.60     0.1642      11         108  119\n",
              "17375  20  0.26  0.2576  0.60     0.1642       8          81   89\n",
              "17376  21  0.26  0.2576  0.60     0.1642       7          83   90\n",
              "17377  22  0.26  0.2727  0.56     0.1343      13          48   61\n",
              "17378  23  0.26  0.2727  0.65     0.1343      12          37   49\n",
              "\n",
              "[17379 rows x 8 columns]"
            ],
            "text/html": [
              "\n",
              "  <div id=\"df-4c55a477-0187-4c42-95c3-7f4504039342\">\n",
              "    <div class=\"colab-df-container\">\n",
              "      <div>\n",
              "<style scoped>\n",
              "    .dataframe tbody tr th:only-of-type {\n",
              "        vertical-align: middle;\n",
              "    }\n",
              "\n",
              "    .dataframe tbody tr th {\n",
              "        vertical-align: top;\n",
              "    }\n",
              "\n",
              "    .dataframe thead th {\n",
              "        text-align: right;\n",
              "    }\n",
              "</style>\n",
              "<table border=\"1\" class=\"dataframe\">\n",
              "  <thead>\n",
              "    <tr style=\"text-align: right;\">\n",
              "      <th></th>\n",
              "      <th>hr</th>\n",
              "      <th>temp</th>\n",
              "      <th>atemp</th>\n",
              "      <th>hum</th>\n",
              "      <th>windspeed</th>\n",
              "      <th>casual</th>\n",
              "      <th>registered</th>\n",
              "      <th>cnt</th>\n",
              "    </tr>\n",
              "  </thead>\n",
              "  <tbody>\n",
              "    <tr>\n",
              "      <th>0</th>\n",
              "      <td>0</td>\n",
              "      <td>0.24</td>\n",
              "      <td>0.2879</td>\n",
              "      <td>0.81</td>\n",
              "      <td>0.0000</td>\n",
              "      <td>3</td>\n",
              "      <td>13</td>\n",
              "      <td>16</td>\n",
              "    </tr>\n",
              "    <tr>\n",
              "      <th>1</th>\n",
              "      <td>1</td>\n",
              "      <td>0.22</td>\n",
              "      <td>0.2727</td>\n",
              "      <td>0.80</td>\n",
              "      <td>0.0000</td>\n",
              "      <td>8</td>\n",
              "      <td>32</td>\n",
              "      <td>40</td>\n",
              "    </tr>\n",
              "    <tr>\n",
              "      <th>2</th>\n",
              "      <td>2</td>\n",
              "      <td>0.22</td>\n",
              "      <td>0.2727</td>\n",
              "      <td>0.80</td>\n",
              "      <td>0.0000</td>\n",
              "      <td>5</td>\n",
              "      <td>27</td>\n",
              "      <td>32</td>\n",
              "    </tr>\n",
              "    <tr>\n",
              "      <th>3</th>\n",
              "      <td>3</td>\n",
              "      <td>0.24</td>\n",
              "      <td>0.2879</td>\n",
              "      <td>0.75</td>\n",
              "      <td>0.0000</td>\n",
              "      <td>3</td>\n",
              "      <td>10</td>\n",
              "      <td>13</td>\n",
              "    </tr>\n",
              "    <tr>\n",
              "      <th>4</th>\n",
              "      <td>4</td>\n",
              "      <td>0.24</td>\n",
              "      <td>0.2879</td>\n",
              "      <td>0.75</td>\n",
              "      <td>0.0000</td>\n",
              "      <td>0</td>\n",
              "      <td>1</td>\n",
              "      <td>1</td>\n",
              "    </tr>\n",
              "    <tr>\n",
              "      <th>...</th>\n",
              "      <td>...</td>\n",
              "      <td>...</td>\n",
              "      <td>...</td>\n",
              "      <td>...</td>\n",
              "      <td>...</td>\n",
              "      <td>...</td>\n",
              "      <td>...</td>\n",
              "      <td>...</td>\n",
              "    </tr>\n",
              "    <tr>\n",
              "      <th>17374</th>\n",
              "      <td>19</td>\n",
              "      <td>0.26</td>\n",
              "      <td>0.2576</td>\n",
              "      <td>0.60</td>\n",
              "      <td>0.1642</td>\n",
              "      <td>11</td>\n",
              "      <td>108</td>\n",
              "      <td>119</td>\n",
              "    </tr>\n",
              "    <tr>\n",
              "      <th>17375</th>\n",
              "      <td>20</td>\n",
              "      <td>0.26</td>\n",
              "      <td>0.2576</td>\n",
              "      <td>0.60</td>\n",
              "      <td>0.1642</td>\n",
              "      <td>8</td>\n",
              "      <td>81</td>\n",
              "      <td>89</td>\n",
              "    </tr>\n",
              "    <tr>\n",
              "      <th>17376</th>\n",
              "      <td>21</td>\n",
              "      <td>0.26</td>\n",
              "      <td>0.2576</td>\n",
              "      <td>0.60</td>\n",
              "      <td>0.1642</td>\n",
              "      <td>7</td>\n",
              "      <td>83</td>\n",
              "      <td>90</td>\n",
              "    </tr>\n",
              "    <tr>\n",
              "      <th>17377</th>\n",
              "      <td>22</td>\n",
              "      <td>0.26</td>\n",
              "      <td>0.2727</td>\n",
              "      <td>0.56</td>\n",
              "      <td>0.1343</td>\n",
              "      <td>13</td>\n",
              "      <td>48</td>\n",
              "      <td>61</td>\n",
              "    </tr>\n",
              "    <tr>\n",
              "      <th>17378</th>\n",
              "      <td>23</td>\n",
              "      <td>0.26</td>\n",
              "      <td>0.2727</td>\n",
              "      <td>0.65</td>\n",
              "      <td>0.1343</td>\n",
              "      <td>12</td>\n",
              "      <td>37</td>\n",
              "      <td>49</td>\n",
              "    </tr>\n",
              "  </tbody>\n",
              "</table>\n",
              "<p>17379 rows × 8 columns</p>\n",
              "</div>\n",
              "      <button class=\"colab-df-convert\" onclick=\"convertToInteractive('df-4c55a477-0187-4c42-95c3-7f4504039342')\"\n",
              "              title=\"Convert this dataframe to an interactive table.\"\n",
              "              style=\"display:none;\">\n",
              "        \n",
              "  <svg xmlns=\"http://www.w3.org/2000/svg\" height=\"24px\"viewBox=\"0 0 24 24\"\n",
              "       width=\"24px\">\n",
              "    <path d=\"M0 0h24v24H0V0z\" fill=\"none\"/>\n",
              "    <path d=\"M18.56 5.44l.94 2.06.94-2.06 2.06-.94-2.06-.94-.94-2.06-.94 2.06-2.06.94zm-11 1L8.5 8.5l.94-2.06 2.06-.94-2.06-.94L8.5 2.5l-.94 2.06-2.06.94zm10 10l.94 2.06.94-2.06 2.06-.94-2.06-.94-.94-2.06-.94 2.06-2.06.94z\"/><path d=\"M17.41 7.96l-1.37-1.37c-.4-.4-.92-.59-1.43-.59-.52 0-1.04.2-1.43.59L10.3 9.45l-7.72 7.72c-.78.78-.78 2.05 0 2.83L4 21.41c.39.39.9.59 1.41.59.51 0 1.02-.2 1.41-.59l7.78-7.78 2.81-2.81c.8-.78.8-2.07 0-2.86zM5.41 20L4 18.59l7.72-7.72 1.47 1.35L5.41 20z\"/>\n",
              "  </svg>\n",
              "      </button>\n",
              "      \n",
              "  <style>\n",
              "    .colab-df-container {\n",
              "      display:flex;\n",
              "      flex-wrap:wrap;\n",
              "      gap: 12px;\n",
              "    }\n",
              "\n",
              "    .colab-df-convert {\n",
              "      background-color: #E8F0FE;\n",
              "      border: none;\n",
              "      border-radius: 50%;\n",
              "      cursor: pointer;\n",
              "      display: none;\n",
              "      fill: #1967D2;\n",
              "      height: 32px;\n",
              "      padding: 0 0 0 0;\n",
              "      width: 32px;\n",
              "    }\n",
              "\n",
              "    .colab-df-convert:hover {\n",
              "      background-color: #E2EBFA;\n",
              "      box-shadow: 0px 1px 2px rgba(60, 64, 67, 0.3), 0px 1px 3px 1px rgba(60, 64, 67, 0.15);\n",
              "      fill: #174EA6;\n",
              "    }\n",
              "\n",
              "    [theme=dark] .colab-df-convert {\n",
              "      background-color: #3B4455;\n",
              "      fill: #D2E3FC;\n",
              "    }\n",
              "\n",
              "    [theme=dark] .colab-df-convert:hover {\n",
              "      background-color: #434B5C;\n",
              "      box-shadow: 0px 1px 3px 1px rgba(0, 0, 0, 0.15);\n",
              "      filter: drop-shadow(0px 1px 2px rgba(0, 0, 0, 0.3));\n",
              "      fill: #FFFFFF;\n",
              "    }\n",
              "  </style>\n",
              "\n",
              "      <script>\n",
              "        const buttonEl =\n",
              "          document.querySelector('#df-4c55a477-0187-4c42-95c3-7f4504039342 button.colab-df-convert');\n",
              "        buttonEl.style.display =\n",
              "          google.colab.kernel.accessAllowed ? 'block' : 'none';\n",
              "\n",
              "        async function convertToInteractive(key) {\n",
              "          const element = document.querySelector('#df-4c55a477-0187-4c42-95c3-7f4504039342');\n",
              "          const dataTable =\n",
              "            await google.colab.kernel.invokeFunction('convertToInteractive',\n",
              "                                                     [key], {});\n",
              "          if (!dataTable) return;\n",
              "\n",
              "          const docLinkHtml = 'Like what you see? Visit the ' +\n",
              "            '<a target=\"_blank\" href=https://colab.research.google.com/notebooks/data_table.ipynb>data table notebook</a>'\n",
              "            + ' to learn more about interactive tables.';\n",
              "          element.innerHTML = '';\n",
              "          dataTable['output_type'] = 'display_data';\n",
              "          await google.colab.output.renderOutput(dataTable, element);\n",
              "          const docLink = document.createElement('div');\n",
              "          docLink.innerHTML = docLinkHtml;\n",
              "          element.appendChild(docLink);\n",
              "        }\n",
              "      </script>\n",
              "    </div>\n",
              "  </div>\n",
              "  "
            ]
          },
          "metadata": {},
          "execution_count": 15
        }
      ],
      "source": [
        "data"
      ],
      "id": "YJnhO3mAPhHb"
    },
    {
      "cell_type": "markdown",
      "metadata": {
        "id": "Nupzk9iyPhHb"
      },
      "source": [
        "### Identify the features that bear a linear relation with the target"
      ],
      "id": "Nupzk9iyPhHb"
    },
    {
      "cell_type": "code",
      "execution_count": 16,
      "metadata": {
        "colab": {
          "base_uri": "https://localhost:8080/",
          "height": 285
        },
        "outputId": "fe38892f-0fff-4368-95d0-7a4675a84d24",
        "id": "ihPLvfqAPhHb"
      },
      "outputs": [
        {
          "output_type": "display_data",
          "data": {
            "text/plain": [
              "<Figure size 432x288 with 1 Axes>"
            ],
            "image/png": "[encoded data removed]"
          },
          "metadata": {}
        }
      ],
      "source": [
        "sns.set()\n",
        "\n",
        "sns.scatterplot(data = data, x = 'temp', y = 'cnt');"
      ],
      "id": "ihPLvfqAPhHb"
    },
    {
      "cell_type": "markdown",
      "metadata": {
        "id": "qgv9oGGGPhHb"
      },
      "source": [
        "### Based on the results from above, define the inputs and the target. Create a train-test split"
      ],
      "id": "qgv9oGGGPhHb"
    },
    {
      "cell_type": "code",
      "execution_count": 17,
      "metadata": {
        "id": "dzXugPecPhHb"
      },
      "outputs": [],
      "source": [
        "inputs = data[['casual', 'registered']]\n",
        "target = data['cnt']"
      ],
      "id": "dzXugPecPhHb"
    },
    {
      "cell_type": "code",
      "execution_count": 18,
      "metadata": {
        "id": "0oXCiCwlPhHc"
      },
      "outputs": [],
      "source": [
        "x_train, x_test, y_train, y_test = train_test_split(inputs, target, test_size=0.2, random_state=365)"
      ],
      "id": "0oXCiCwlPhHc"
    },
    {
      "cell_type": "markdown",
      "metadata": {
        "id": "2tCOMHenPhHc"
      },
      "source": [
        "### Scale the training and test data to zero mean and unit variance"
      ],
      "id": "2tCOMHenPhHc"
    },
    {
      "cell_type": "code",
      "execution_count": 19,
      "metadata": {
        "id": "x1co7HzCPhHc"
      },
      "outputs": [],
      "source": [
        "scaler = StandardScaler()\n",
        "\n",
        "x_train_scaled = scaler.fit_transform(x_train)\n",
        "x_test_scaled = scaler.transform(x_test)"
      ],
      "id": "x1co7HzCPhHc"
    },
    {
      "cell_type": "markdown",
      "metadata": {
        "id": "sQnQViRUPhHc"
      },
      "source": [
        "### Create the KNN and Linear regression models. Make predictions on the test data"
      ],
      "id": "sQnQViRUPhHc"
    },
    {
      "cell_type": "code",
      "execution_count": 20,
      "metadata": {
        "id": "tG47_-q2PhHc"
      },
      "outputs": [],
      "source": [
        "reg_knn = KNeighborsRegressor(n_neighbors = 2)\n",
        "reg_knn.fit(x_train_scaled, y_train)\n",
        "y_test_pred_knn = reg_knn.predict(x_test_scaled)"
      ],
      "id": "tG47_-q2PhHc"
    },
    {
      "cell_type": "code",
      "execution_count": 21,
      "metadata": {
        "id": "c78HJu2oPhHc"
      },
      "outputs": [],
      "source": [
        "reg_lin = LinearRegression()\n",
        "reg_lin.fit(x_train_scaled, y_train)\n",
        "y_test_pred_lin = reg_lin.predict(x_test_scaled)"
      ],
      "id": "c78HJu2oPhHc"
    },
    {
      "cell_type": "markdown",
      "metadata": {
        "id": "G5qmMWYAPhHc"
      },
      "source": [
        "### Plot the predicted values from both models versus the true values"
      ],
      "id": "G5qmMWYAPhHc"
    },
    {
      "cell_type": "code",
      "execution_count": 22,
      "metadata": {
        "id": "Yxfw3fvrPhHc"
      },
      "outputs": [],
      "source": [
        "x = [50, 8000]\n",
        "y = [50, 8000]"
      ],
      "id": "Yxfw3fvrPhHc"
    },
    {
      "cell_type": "code",
      "execution_count": 23,
      "metadata": {
        "colab": {
          "base_uri": "https://localhost:8080/",
          "height": 301
        },
        "outputId": "26ee5e40-d354-4cac-be6b-937cda45d4c5",
        "id": "qFzfc8B9PhHc"
      },
      "outputs": [
        {
          "output_type": "display_data",
          "data": {
            "text/plain": [
              "<Figure size 432x288 with 1 Axes>"
            ],
            "image/png": "[encoded data removed]"
          },
          "metadata": {}
        }
      ],
      "source": [
        "sns.set()\n",
        "\n",
        "plt.scatter(y_test, y_test_pred_knn)\n",
        "plt.plot(x, y)\n",
        "plt.xlabel('True values')\n",
        "plt.ylabel('Predicted values')\n",
        "plt.title('KNN Regressor');"
      ],
      "id": "qFzfc8B9PhHc"
    },
    {
      "cell_type": "code",
      "execution_count": 24,
      "metadata": {
        "colab": {
          "base_uri": "https://localhost:8080/",
          "height": 301
        },
        "outputId": "71d8c446-606f-427a-8708-ee1596a9e1ff",
        "id": "EOOQUwJxPhHd"
      },
      "outputs": [
        {
          "output_type": "display_data",
          "data": {
            "text/plain": [
              "<Figure size 432x288 with 1 Axes>"
            ],
            "image/png": "[encoded data removed]"
          },
          "metadata": {}
        }
      ],
      "source": [
        "sns.set()\n",
        "\n",
        "plt.scatter(y_test, y_test_pred_lin)\n",
        "plt.plot(x, y);\n",
        "plt.xlabel('True values')\n",
        "plt.ylabel('Predicted values')\n",
        "plt.title('Linear Regression');"
      ],
      "id": "EOOQUwJxPhHd"
    },
    {
      "cell_type": "markdown",
      "metadata": {
        "id": "d4aoPjd3PhHd"
      },
      "source": [
        "### Calculate the R2 value for both models"
      ],
      "id": "d4aoPjd3PhHd"
    },
    {
      "cell_type": "code",
      "execution_count": 25,
      "metadata": {
        "colab": {
          "base_uri": "https://localhost:8080/"
        },
        "outputId": "9cd8ad12-2114-40f4-d5c3-e58e7d60033a",
        "id": "AyJT7MaFPhHd"
      },
      "outputs": [
        {
          "output_type": "execute_result",
          "data": {
            "text/plain": [
              "(0.9997589433656945, 1.0)"
            ]
          },
          "metadata": {},
          "execution_count": 25
        }
      ],
      "source": [
        "reg_knn.score(x_test_scaled, y_test), reg_lin.score(x_test_scaled, y_test)"
      ],
      "id": "AyJT7MaFPhHd"
    },
    {
      "cell_type": "code",
      "source": [],
      "metadata": {
        "id": "nQEuVSUiPhHd"
      },
      "execution_count": 25,
      "outputs": [],
      "id": "nQEuVSUiPhHd"
    }
  ],
  "metadata": {
    "kernelspec": {
      "display_name": "Python 3 (ipykernel)",
      "language": "python",
      "name": "python3"
    },
    "language_info": {
      "codemirror_mode": {
        "name": "ipython",
        "version": 3
      },
      "file_extension": ".py",
      "mimetype": "text/x-python",
      "name": "python",
      "nbconvert_exporter": "python",
      "pygments_lexer": "ipython3",
      "version": "3.8.8"
    },
    "colab": {
      "provenance": [],
      "collapsed_sections": [
        "57371587",
        "09a8575d",
        "hfqYGt08PZT_",
        "8750765a",
        "4ed4fab9",
        "099617a6",
        "6a2bf289",
        "abcd81de",
        "e93abf87",
        "7109f0a5",
        "9UxkJ0ojPhHa",
        "EhWU2IjRPhHa",
        "Nupzk9iyPhHb",
        "qgv9oGGGPhHb",
        "2tCOMHenPhHc",
        "sQnQViRUPhHc",
        "G5qmMWYAPhHc",
        "d4aoPjd3PhHd"
      ]
    }
  },
  "nbformat": 4,
  "nbformat_minor": 5
}