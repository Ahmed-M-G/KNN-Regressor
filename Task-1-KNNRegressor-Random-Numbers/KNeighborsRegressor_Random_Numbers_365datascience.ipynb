{
  "cells": [
    {
      "cell_type": "markdown",
      "id": "fc6a8628",
      "metadata": {
        "id": "fc6a8628"
      },
      "source": [
        "# K-Nearest Neighbors Regressor"
      ]
    },
    {
      "cell_type": "markdown",
      "id": "c824583d",
      "metadata": {
        "id": "c824583d"
      },
      "source": [
        "### Introducing the database"
      ]
    },
    {
      "cell_type": "markdown",
      "id": "3cb0a75c",
      "metadata": {
        "id": "3cb0a75c"
      },
      "source": [
        "The database for this example is generated randomly. Generating datasets is an important skill to have. This is the best way to explore the algorithms themelves without having to worry about encoding, standardizing, dealing with outliers and all sorts of preprocessing that comes with a real-world dataset. Another advantage of randomly generated datasets is that you have full control over the data. You are free to choose the number of features, the number of classes, the way the points are distributed, everything really! \n",
        "\n",
        "I wish you to have lots of fun with the exercise and keep experimenting!"
      ]
    },
    {
      "cell_type": "markdown",
      "id": "2b4837d7",
      "metadata": {
        "id": "2b4837d7"
      },
      "source": [
        "### Importing the necessary libraries"
      ]
    },
    {
      "cell_type": "code",
      "execution_count": 1,
      "id": "c4046bd9",
      "metadata": {
        "id": "c4046bd9"
      },
      "outputs": [],
      "source": [
        "# Will help us generate the regression\n",
        "from sklearn.datasets import make_regression\n",
        "# Will help us create the KNN regression model\n",
        "from sklearn.neighbors import KNeighborsRegressor\n",
        "\n",
        "# Will help us visualize the results\n",
        "import matplotlib.pyplot as plt\n",
        "import seaborn as sns"
      ]
    },
    {
      "cell_type": "markdown",
      "id": "ca7c0c59",
      "metadata": {
        "id": "ca7c0c59"
      },
      "source": [
        "### Generating the database"
      ]
    },
    {
      "cell_type": "code",
      "execution_count": 2,
      "id": "d301e149",
      "metadata": {
        "id": "d301e149"
      },
      "outputs": [],
      "source": [
        "# Create a linear regression with 10 samples and a single feature.\n",
        "# Introduce some noise in the data\n",
        "# Set a random state, so that each run produces the same regression\n",
        "inputs, target = make_regression(n_samples = 10, \n",
        "                                 n_features = 1, \n",
        "                                 noise = 15,\n",
        "                                 random_state = 365)"
      ]
    },
    {
      "cell_type": "code",
      "execution_count": 3,
      "id": "1f1694f6",
      "metadata": {
        "id": "1f1694f6"
      },
      "outputs": [],
      "source": [
        "# Since the dataset is randomly generated, we are free to modify it at our will.\n",
        "# Here, I divide the target values just to make the numbers in the dataset smaller. \n",
        "# Note, this is not something you would do with a real dataset!\n",
        "target = target/40"
      ]
    },
    {
      "cell_type": "markdown",
      "id": "e0369b0b",
      "metadata": {
        "id": "e0369b0b"
      },
      "source": [
        "### Plotting the database"
      ]
    },
    {
      "cell_type": "code",
      "execution_count": 4,
      "id": "f3776439",
      "metadata": {
        "colab": {
          "base_uri": "https://localhost:8080/",
          "height": 268
        },
        "id": "f3776439",
        "outputId": "fcbf49db-03a4-4419-c219-a54acce30fc2"
      },
      "outputs": [
        {
          "output_type": "display_data",
          "data": {
            "text/plain": [
              "<Figure size 432x288 with 1 Axes>"
            ],
            "image/png": "[encoded data removed]"
          },
          "metadata": {}
        }
      ],
      "source": [
        "# Set the seaborn visualization\n",
        "sns.set()\n",
        "\n",
        "# Plot the dataset\n",
        "plt.scatter(inputs, target);"
      ]
    },
    {
      "cell_type": "markdown",
      "id": "c8cb16f7",
      "metadata": {
        "id": "c8cb16f7"
      },
      "source": [
        "### Creating the model"
      ]
    },
    {
      "cell_type": "code",
      "execution_count": 5,
      "id": "520f76d0",
      "metadata": {
        "colab": {
          "base_uri": "https://localhost:8080/"
        },
        "id": "520f76d0",
        "outputId": "e1d1e405-4d31-4e21-d115-d70b79d03b1b"
      },
      "outputs": [
        {
          "output_type": "execute_result",
          "data": {
            "text/plain": [
              "KNeighborsRegressor(n_neighbors=3)"
            ]
          },
          "metadata": {},
          "execution_count": 5
        }
      ],
      "source": [
        "# Create a KNN regressior with a specified K-value\n",
        "reg_knn = KNeighborsRegressor(n_neighbors = 3)\n",
        "\n",
        "# Fit the model to the data\n",
        "reg_knn.fit(inputs, target)"
      ]
    },
    {
      "cell_type": "markdown",
      "id": "5c463f5a",
      "metadata": {
        "id": "5c463f5a"
      },
      "source": [
        "### Predicting a sample"
      ]
    },
    {
      "cell_type": "code",
      "execution_count": 6,
      "id": "282325e2",
      "metadata": {
        "colab": {
          "base_uri": "https://localhost:8080/"
        },
        "id": "282325e2",
        "outputId": "2eea2823-3845-4dd3-b110-b92513d63505"
      },
      "outputs": [
        {
          "output_type": "execute_result",
          "data": {
            "text/plain": [
              "array([-0.51650189])"
            ]
          },
          "metadata": {},
          "execution_count": 6
        }
      ],
      "source": [
        "# Set an x-value to a sample whose y-value we aim to predict\n",
        "x_pred = -0.5\n",
        "\n",
        "# Use the fitted model to predict the y-value of the sample\n",
        "y_pred = reg_knn.predict([[x_pred]])\n",
        "\n",
        "# Display the predicted value\n",
        "y_pred"
      ]
    },
    {
      "cell_type": "code",
      "execution_count": 7,
      "id": "254fba1f",
      "metadata": {
        "colab": {
          "base_uri": "https://localhost:8080/"
        },
        "id": "254fba1f",
        "outputId": "2aa3f5a6-21f6-48bb-ff8f-e4641041f0ac"
      },
      "outputs": [
        {
          "output_type": "execute_result",
          "data": {
            "text/plain": [
              "(array([[0.26014535, 0.35632097, 0.46645194]]), array([[8, 3, 0]]))"
            ]
          },
          "metadata": {},
          "execution_count": 7
        }
      ],
      "source": [
        "# Store the distance to the three nearest neighbors as well as their indices in the dataset\n",
        "neighbors = reg_knn.kneighbors([[x_pred]])\n",
        "\n",
        "# Display the distanes and the indices\n",
        "neighbors"
      ]
    },
    {
      "cell_type": "markdown",
      "id": "d97bc45a",
      "metadata": {
        "id": "d97bc45a"
      },
      "source": [
        "### Visualizing the neighbors"
      ]
    },
    {
      "cell_type": "code",
      "execution_count": 8,
      "id": "c594b0c2",
      "metadata": {
        "colab": {
          "base_uri": "https://localhost:8080/",
          "height": 268
        },
        "id": "c594b0c2",
        "outputId": "02abf7ec-e245-45e1-cfab-936120dd6258"
      },
      "outputs": [
        {
          "output_type": "display_data",
          "data": {
            "text/plain": [
              "<Figure size 432x288 with 1 Axes>"
            ],
            "image/png": "[encoded data removed]"
          },
          "metadata": {}
        }
      ],
      "source": [
        "# Set the seaborn visualization\n",
        "sns.set()\n",
        "\n",
        "# Plot the targets versus the inputs\n",
        "plt.scatter(inputs, target)\n",
        "\n",
        "# Plot the sample point whose y-value we predicted\n",
        "plt.scatter(x_pred, y_pred)\n",
        "\n",
        "# Create two arrays where the x- and y-values of the nearest neighbors will be stored\n",
        "plot_x_train = []\n",
        "plot_y_train = []\n",
        "\n",
        "# Use the indices of the nearest neighbors to fetch their x- and y-values\n",
        "for i in neighbors[1]:\n",
        "    plot_x_train.append(inputs[i])\n",
        "    plot_y_train.append(target[i])\n",
        "\n",
        "# Encircle the nearest neighbors\n",
        "plt.scatter(plot_x_train, \n",
        "            plot_y_train, \n",
        "            s=200, facecolors='none', edgecolors='r');"
      ]
    },
    {
      "cell_type": "markdown",
      "id": "483e44fa",
      "metadata": {
        "id": "483e44fa"
      },
      "source": [
        "### Calculating the predicted value"
      ]
    },
    {
      "cell_type": "code",
      "execution_count": 9,
      "id": "a787eeaa",
      "metadata": {
        "colab": {
          "base_uri": "https://localhost:8080/"
        },
        "id": "a787eeaa",
        "outputId": "37f2add7-f869-4d01-b825-944e85ff2d70"
      },
      "outputs": [
        {
          "output_type": "execute_result",
          "data": {
            "text/plain": [
              "(0.3288886919385298,\n",
              " -0.5134152746794666,\n",
              " -1.3649790770347563,\n",
              " array([-0.51650189]))"
            ]
          },
          "metadata": {},
          "execution_count": 9
        }
      ],
      "source": [
        "# Display the y-values of the neighbors together with the predicted y-value\n",
        "\n",
        "# target[8], y_pred\n",
        "# target[8], target[3], y_pred\n",
        "target[8], target[3], target[0], y_pred"
      ]
    },
    {
      "cell_type": "code",
      "execution_count": 10,
      "id": "39f2920f",
      "metadata": {
        "colab": {
          "base_uri": "https://localhost:8080/"
        },
        "id": "39f2920f",
        "outputId": "6c1c8d49-2205-4a57-b82a-fbb3e652626a"
      },
      "outputs": [
        {
          "output_type": "execute_result",
          "data": {
            "text/plain": [
              "-0.5165018865918977"
            ]
          },
          "metadata": {},
          "execution_count": 10
        }
      ],
      "source": [
        "# Find the arithmetic mean of the y-values of the nearest neighbors\n",
        "(target[8] + target[3] + target[0])/3"
      ]
    }
  ],
  "metadata": {
    "kernelspec": {
      "display_name": "Python 3 (ipykernel)",
      "language": "python",
      "name": "python3"
    },
    "language_info": {
      "codemirror_mode": {
        "name": "ipython",
        "version": 3
      },
      "file_extension": ".py",
      "mimetype": "text/x-python",
      "name": "python",
      "nbconvert_exporter": "python",
      "pygments_lexer": "ipython3",
      "version": "3.8.8"
    },
    "colab": {
      "provenance": []
    }
  },
  "nbformat": 4,
  "nbformat_minor": 5
}